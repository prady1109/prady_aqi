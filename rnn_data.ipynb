{
 "cells": [
  {
   "cell_type": "code",
   "execution_count": 11,
   "metadata": {},
   "outputs": [],
   "source": [
    "import numpy as np\n",
    "import matplotlib.pyplot as plt\n",
    "import pandas as pd\n",
    "import seaborn as sns\n",
    "\n",
    "# Importing the dataset\n",
    "dataset = pd.read_csv('rkpur.csv')\n",
    "pd.set_option(\"max_rows\", None)\n"
   ]
  },
  {
   "cell_type": "code",
   "execution_count": 12,
   "metadata": {},
   "outputs": [],
   "source": [
    "dataset['AT']=dataset['Temp'].where((dataset['AT'].isnull() | dataset['AT'].isna()),dataset['AT'])"
   ]
  },
  {
   "cell_type": "code",
   "execution_count": 13,
   "metadata": {},
   "outputs": [],
   "source": [
    "dataset['From Date']=pd.to_datetime(dataset['From Date']) \n",
    "dataset['Month'] = dataset['From Date'].dt.month"
   ]
  },
  {
   "cell_type": "code",
   "execution_count": 14,
   "metadata": {},
   "outputs": [],
   "source": [
    "dt = dataset.loc[:,['PM2.5']].values\n",
    "dt=pd.DataFrame(dt).interpolate().values\n",
    "X = []\n",
    "y= []\n",
    "for i in range(15, 1627):\n",
    "    X.append(dt[i-15:i, 0])\n",
    "    y.append(dt[i, 0])\n",
    "X, y = np.array(X), np.array(y)\n",
    "X = np.reshape(X, (X.shape[0], X.shape[1], 1))"
   ]
  },
  {
   "cell_type": "code",
   "execution_count": 15,
   "metadata": {},
   "outputs": [
    {
     "data": {
      "text/plain": [
       "(1612, 15, 1)"
      ]
     },
     "execution_count": 15,
     "metadata": {},
     "output_type": "execute_result"
    }
   ],
   "source": [
    "X.shape"
   ]
  },
  {
   "cell_type": "code",
   "execution_count": 16,
   "metadata": {},
   "outputs": [],
   "source": [
    "X_train=X[0:1600,:]\n",
    "y_train=y[0:1600]\n",
    "\n",
    "import pickle\n",
    "# open a file, where you ant to store the data\n",
    "file = open('rnn_traindata.pkl', 'wb')\n",
    "t=(X_train,y_train)\n",
    "# dump information to that file\n",
    "pickle.dump(t, file)\n",
    "\n",
    "file.close()"
   ]
  },
  {
   "cell_type": "code",
   "execution_count": 18,
   "metadata": {},
   "outputs": [],
   "source": [
    "date=dataset['From Date'].dt.strftime(\"%d %b %Y \")\n",
    "date=date[1:]\n",
    "date=date[1601:1608]\n",
    "date=np.array(date)\n",
    "X_fin=X[1601:1608,:]\n",
    "y_fin=y[1601:1608]\n",
    "\n",
    "import pickle\n",
    "# open a file, where you ant to store the data\n",
    "file = open('rnn_preddata.pkl', 'wb')\n",
    "t=(X_fin,y_fin,date)\n",
    "# dump information to that file\n",
    "pickle.dump(t, file)"
   ]
  },
  {
   "cell_type": "code",
   "execution_count": null,
   "metadata": {},
   "outputs": [],
   "source": []
  }
 ],
 "metadata": {
  "kernelspec": {
   "display_name": "Python 3",
   "language": "python",
   "name": "python3"
  },
  "language_info": {
   "codemirror_mode": {
    "name": "ipython",
    "version": 3
   },
   "file_extension": ".py",
   "mimetype": "text/x-python",
   "name": "python",
   "nbconvert_exporter": "python",
   "pygments_lexer": "ipython3",
   "version": "3.7.6"
  }
 },
 "nbformat": 4,
 "nbformat_minor": 4
}
